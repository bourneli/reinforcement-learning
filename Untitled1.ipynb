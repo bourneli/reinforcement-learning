{
 "cells": [
  {
   "cell_type": "code",
   "execution_count": 13,
   "metadata": {},
   "outputs": [
    {
     "name": "stderr",
     "output_type": "stream",
     "text": [
      "[2018-01-18 19:53:48,285] Making new env: MountainCarContinuous-v0\n"
     ]
    },
    {
     "name": "stdout",
     "output_type": "stream",
     "text": [
      "Box(1,)\n",
      "Box(2,)\n"
     ]
    }
   ],
   "source": [
    "import gym\n",
    "# env = gym.make('CartPole-v0')\n",
    "env = gym.make('MountainCarContinuous-v0')\n",
    "print(env.action_space)\n",
    "print(env.observation_space)"
   ]
  },
  {
   "cell_type": "code",
   "execution_count": 14,
   "metadata": {},
   "outputs": [
    {
     "name": "stderr",
     "output_type": "stream",
     "text": [
      "[2018-01-18 19:54:34,831] Making new env: Go9x9-v0\n"
     ]
    },
    {
     "ename": "DependencyNotInstalled",
     "evalue": "No module named 'pachi_py'. (HINT: you may need to install the Go dependencies via \"pip install gym[pachi]\".)",
     "output_type": "error",
     "traceback": [
      "\u001b[1;31m---------------------------------------------------------------------------\u001b[0m",
      "\u001b[1;31mImportError\u001b[0m                               Traceback (most recent call last)",
      "\u001b[1;32md:\\dev\\my_git\\github\\gym\\gym\\envs\\board_game\\go.py\u001b[0m in \u001b[0;36m<module>\u001b[1;34m()\u001b[0m\n\u001b[0;32m      2\u001b[0m \u001b[1;32mtry\u001b[0m\u001b[1;33m:\u001b[0m\u001b[1;33m\u001b[0m\u001b[0m\n\u001b[1;32m----> 3\u001b[1;33m     \u001b[1;32mimport\u001b[0m \u001b[0mpachi_py\u001b[0m\u001b[1;33m\u001b[0m\u001b[0m\n\u001b[0m\u001b[0;32m      4\u001b[0m \u001b[1;32mexcept\u001b[0m \u001b[0mImportError\u001b[0m \u001b[1;32mas\u001b[0m \u001b[0me\u001b[0m\u001b[1;33m:\u001b[0m\u001b[1;33m\u001b[0m\u001b[0m\n",
      "\u001b[1;31mImportError\u001b[0m: No module named 'pachi_py'",
      "\nDuring handling of the above exception, another exception occurred:\n",
      "\u001b[1;31mDependencyNotInstalled\u001b[0m                    Traceback (most recent call last)",
      "\u001b[1;32m<ipython-input-14-870498a748d1>\u001b[0m in \u001b[0;36m<module>\u001b[1;34m()\u001b[0m\n\u001b[0;32m      1\u001b[0m \u001b[1;32mimport\u001b[0m \u001b[0mgym\u001b[0m\u001b[1;33m\u001b[0m\u001b[0m\n\u001b[1;32m----> 2\u001b[1;33m \u001b[0menv\u001b[0m \u001b[1;33m=\u001b[0m \u001b[0mgym\u001b[0m\u001b[1;33m.\u001b[0m\u001b[0mmake\u001b[0m\u001b[1;33m(\u001b[0m\u001b[1;34m'Go9x9-v0'\u001b[0m\u001b[1;33m)\u001b[0m\u001b[1;33m\u001b[0m\u001b[0m\n\u001b[0m\u001b[0;32m      3\u001b[0m \u001b[1;32mfor\u001b[0m \u001b[0mi_episode\u001b[0m \u001b[1;32min\u001b[0m \u001b[0mrange\u001b[0m\u001b[1;33m(\u001b[0m\u001b[1;36m20\u001b[0m\u001b[1;33m)\u001b[0m\u001b[1;33m:\u001b[0m\u001b[1;33m\u001b[0m\u001b[0m\n\u001b[0;32m      4\u001b[0m     \u001b[0mobservation\u001b[0m \u001b[1;33m=\u001b[0m \u001b[0menv\u001b[0m\u001b[1;33m.\u001b[0m\u001b[0mreset\u001b[0m\u001b[1;33m(\u001b[0m\u001b[1;33m)\u001b[0m\u001b[1;33m\u001b[0m\u001b[0m\n\u001b[0;32m      5\u001b[0m     \u001b[1;32mfor\u001b[0m \u001b[0mt\u001b[0m \u001b[1;32min\u001b[0m \u001b[0mrange\u001b[0m\u001b[1;33m(\u001b[0m\u001b[1;36m100\u001b[0m\u001b[1;33m)\u001b[0m\u001b[1;33m:\u001b[0m\u001b[1;33m\u001b[0m\u001b[0m\n",
      "\u001b[1;32md:\\dev\\my_git\\github\\gym\\gym\\envs\\registration.py\u001b[0m in \u001b[0;36mmake\u001b[1;34m(id)\u001b[0m\n\u001b[0;32m    162\u001b[0m \u001b[1;33m\u001b[0m\u001b[0m\n\u001b[0;32m    163\u001b[0m \u001b[1;32mdef\u001b[0m \u001b[0mmake\u001b[0m\u001b[1;33m(\u001b[0m\u001b[0mid\u001b[0m\u001b[1;33m)\u001b[0m\u001b[1;33m:\u001b[0m\u001b[1;33m\u001b[0m\u001b[0m\n\u001b[1;32m--> 164\u001b[1;33m     \u001b[1;32mreturn\u001b[0m \u001b[0mregistry\u001b[0m\u001b[1;33m.\u001b[0m\u001b[0mmake\u001b[0m\u001b[1;33m(\u001b[0m\u001b[0mid\u001b[0m\u001b[1;33m)\u001b[0m\u001b[1;33m\u001b[0m\u001b[0m\n\u001b[0m\u001b[0;32m    165\u001b[0m \u001b[1;33m\u001b[0m\u001b[0m\n\u001b[0;32m    166\u001b[0m \u001b[1;32mdef\u001b[0m \u001b[0mspec\u001b[0m\u001b[1;33m(\u001b[0m\u001b[0mid\u001b[0m\u001b[1;33m)\u001b[0m\u001b[1;33m:\u001b[0m\u001b[1;33m\u001b[0m\u001b[0m\n",
      "\u001b[1;32md:\\dev\\my_git\\github\\gym\\gym\\envs\\registration.py\u001b[0m in \u001b[0;36mmake\u001b[1;34m(self, id)\u001b[0m\n\u001b[0;32m    120\u001b[0m         \u001b[0mlogger\u001b[0m\u001b[1;33m.\u001b[0m\u001b[0minfo\u001b[0m\u001b[1;33m(\u001b[0m\u001b[1;34m'Making new env: %s'\u001b[0m\u001b[1;33m,\u001b[0m \u001b[0mid\u001b[0m\u001b[1;33m)\u001b[0m\u001b[1;33m\u001b[0m\u001b[0m\n\u001b[0;32m    121\u001b[0m         \u001b[0mspec\u001b[0m \u001b[1;33m=\u001b[0m \u001b[0mself\u001b[0m\u001b[1;33m.\u001b[0m\u001b[0mspec\u001b[0m\u001b[1;33m(\u001b[0m\u001b[0mid\u001b[0m\u001b[1;33m)\u001b[0m\u001b[1;33m\u001b[0m\u001b[0m\n\u001b[1;32m--> 122\u001b[1;33m         \u001b[0menv\u001b[0m \u001b[1;33m=\u001b[0m \u001b[0mspec\u001b[0m\u001b[1;33m.\u001b[0m\u001b[0mmake\u001b[0m\u001b[1;33m(\u001b[0m\u001b[1;33m)\u001b[0m\u001b[1;33m\u001b[0m\u001b[0m\n\u001b[0m\u001b[0;32m    123\u001b[0m         \u001b[1;32mif\u001b[0m \u001b[1;33m(\u001b[0m\u001b[0menv\u001b[0m\u001b[1;33m.\u001b[0m\u001b[0mspec\u001b[0m\u001b[1;33m.\u001b[0m\u001b[0mtimestep_limit\u001b[0m \u001b[1;32mis\u001b[0m \u001b[1;32mnot\u001b[0m \u001b[1;32mNone\u001b[0m\u001b[1;33m)\u001b[0m \u001b[1;32mand\u001b[0m \u001b[1;32mnot\u001b[0m \u001b[0mspec\u001b[0m\u001b[1;33m.\u001b[0m\u001b[0mtags\u001b[0m\u001b[1;33m.\u001b[0m\u001b[0mget\u001b[0m\u001b[1;33m(\u001b[0m\u001b[1;34m'vnc'\u001b[0m\u001b[1;33m)\u001b[0m\u001b[1;33m:\u001b[0m\u001b[1;33m\u001b[0m\u001b[0m\n\u001b[0;32m    124\u001b[0m             \u001b[1;32mfrom\u001b[0m \u001b[0mgym\u001b[0m\u001b[1;33m.\u001b[0m\u001b[0mwrappers\u001b[0m\u001b[1;33m.\u001b[0m\u001b[0mtime_limit\u001b[0m \u001b[1;32mimport\u001b[0m \u001b[0mTimeLimit\u001b[0m\u001b[1;33m\u001b[0m\u001b[0m\n",
      "\u001b[1;32md:\\dev\\my_git\\github\\gym\\gym\\envs\\registration.py\u001b[0m in \u001b[0;36mmake\u001b[1;34m(self)\u001b[0m\n\u001b[0;32m     86\u001b[0m             \u001b[0menv\u001b[0m \u001b[1;33m=\u001b[0m \u001b[0mself\u001b[0m\u001b[1;33m.\u001b[0m\u001b[0m_entry_point\u001b[0m\u001b[1;33m(\u001b[0m\u001b[1;33m)\u001b[0m\u001b[1;33m\u001b[0m\u001b[0m\n\u001b[0;32m     87\u001b[0m         \u001b[1;32melse\u001b[0m\u001b[1;33m:\u001b[0m\u001b[1;33m\u001b[0m\u001b[0m\n\u001b[1;32m---> 88\u001b[1;33m             \u001b[0mcls\u001b[0m \u001b[1;33m=\u001b[0m \u001b[0mload\u001b[0m\u001b[1;33m(\u001b[0m\u001b[0mself\u001b[0m\u001b[1;33m.\u001b[0m\u001b[0m_entry_point\u001b[0m\u001b[1;33m)\u001b[0m\u001b[1;33m\u001b[0m\u001b[0m\n\u001b[0m\u001b[0;32m     89\u001b[0m             \u001b[0menv\u001b[0m \u001b[1;33m=\u001b[0m \u001b[0mcls\u001b[0m\u001b[1;33m(\u001b[0m\u001b[1;33m**\u001b[0m\u001b[0mself\u001b[0m\u001b[1;33m.\u001b[0m\u001b[0m_kwargs\u001b[0m\u001b[1;33m)\u001b[0m\u001b[1;33m\u001b[0m\u001b[0m\n\u001b[0;32m     90\u001b[0m \u001b[1;33m\u001b[0m\u001b[0m\n",
      "\u001b[1;32md:\\dev\\my_git\\github\\gym\\gym\\envs\\registration.py\u001b[0m in \u001b[0;36mload\u001b[1;34m(name)\u001b[0m\n\u001b[0;32m     15\u001b[0m \u001b[1;32mdef\u001b[0m \u001b[0mload\u001b[0m\u001b[1;33m(\u001b[0m\u001b[0mname\u001b[0m\u001b[1;33m)\u001b[0m\u001b[1;33m:\u001b[0m\u001b[1;33m\u001b[0m\u001b[0m\n\u001b[0;32m     16\u001b[0m     \u001b[0mentry_point\u001b[0m \u001b[1;33m=\u001b[0m \u001b[0mpkg_resources\u001b[0m\u001b[1;33m.\u001b[0m\u001b[0mEntryPoint\u001b[0m\u001b[1;33m.\u001b[0m\u001b[0mparse\u001b[0m\u001b[1;33m(\u001b[0m\u001b[1;34m'x={}'\u001b[0m\u001b[1;33m.\u001b[0m\u001b[0mformat\u001b[0m\u001b[1;33m(\u001b[0m\u001b[0mname\u001b[0m\u001b[1;33m)\u001b[0m\u001b[1;33m)\u001b[0m\u001b[1;33m\u001b[0m\u001b[0m\n\u001b[1;32m---> 17\u001b[1;33m     \u001b[0mresult\u001b[0m \u001b[1;33m=\u001b[0m \u001b[0mentry_point\u001b[0m\u001b[1;33m.\u001b[0m\u001b[0mload\u001b[0m\u001b[1;33m(\u001b[0m\u001b[1;32mFalse\u001b[0m\u001b[1;33m)\u001b[0m\u001b[1;33m\u001b[0m\u001b[0m\n\u001b[0m\u001b[0;32m     18\u001b[0m     \u001b[1;32mreturn\u001b[0m \u001b[0mresult\u001b[0m\u001b[1;33m\u001b[0m\u001b[0m\n\u001b[0;32m     19\u001b[0m \u001b[1;33m\u001b[0m\u001b[0m\n",
      "\u001b[1;32md:\\Anaconda3\\envs\\tensorflow\\lib\\site-packages\\pkg_resources\\__init__.py\u001b[0m in \u001b[0;36mload\u001b[1;34m(self, require, *args, **kwargs)\u001b[0m\n\u001b[0;32m   2314\u001b[0m         \u001b[1;32mif\u001b[0m \u001b[0mrequire\u001b[0m\u001b[1;33m:\u001b[0m\u001b[1;33m\u001b[0m\u001b[0m\n\u001b[0;32m   2315\u001b[0m             \u001b[0mself\u001b[0m\u001b[1;33m.\u001b[0m\u001b[0mrequire\u001b[0m\u001b[1;33m(\u001b[0m\u001b[1;33m*\u001b[0m\u001b[0margs\u001b[0m\u001b[1;33m,\u001b[0m \u001b[1;33m**\u001b[0m\u001b[0mkwargs\u001b[0m\u001b[1;33m)\u001b[0m\u001b[1;33m\u001b[0m\u001b[0m\n\u001b[1;32m-> 2316\u001b[1;33m         \u001b[1;32mreturn\u001b[0m \u001b[0mself\u001b[0m\u001b[1;33m.\u001b[0m\u001b[0mresolve\u001b[0m\u001b[1;33m(\u001b[0m\u001b[1;33m)\u001b[0m\u001b[1;33m\u001b[0m\u001b[0m\n\u001b[0m\u001b[0;32m   2317\u001b[0m \u001b[1;33m\u001b[0m\u001b[0m\n\u001b[0;32m   2318\u001b[0m     \u001b[1;32mdef\u001b[0m \u001b[0mresolve\u001b[0m\u001b[1;33m(\u001b[0m\u001b[0mself\u001b[0m\u001b[1;33m)\u001b[0m\u001b[1;33m:\u001b[0m\u001b[1;33m\u001b[0m\u001b[0m\n",
      "\u001b[1;32md:\\Anaconda3\\envs\\tensorflow\\lib\\site-packages\\pkg_resources\\__init__.py\u001b[0m in \u001b[0;36mresolve\u001b[1;34m(self)\u001b[0m\n\u001b[0;32m   2320\u001b[0m         \u001b[0mResolve\u001b[0m \u001b[0mthe\u001b[0m \u001b[0mentry\u001b[0m \u001b[0mpoint\u001b[0m \u001b[1;32mfrom\u001b[0m \u001b[0mits\u001b[0m \u001b[0mmodule\u001b[0m \u001b[1;32mand\u001b[0m \u001b[0mattrs\u001b[0m\u001b[1;33m.\u001b[0m\u001b[1;33m\u001b[0m\u001b[0m\n\u001b[0;32m   2321\u001b[0m         \"\"\"\n\u001b[1;32m-> 2322\u001b[1;33m         \u001b[0mmodule\u001b[0m \u001b[1;33m=\u001b[0m \u001b[0m__import__\u001b[0m\u001b[1;33m(\u001b[0m\u001b[0mself\u001b[0m\u001b[1;33m.\u001b[0m\u001b[0mmodule_name\u001b[0m\u001b[1;33m,\u001b[0m \u001b[0mfromlist\u001b[0m\u001b[1;33m=\u001b[0m\u001b[1;33m[\u001b[0m\u001b[1;34m'__name__'\u001b[0m\u001b[1;33m]\u001b[0m\u001b[1;33m,\u001b[0m \u001b[0mlevel\u001b[0m\u001b[1;33m=\u001b[0m\u001b[1;36m0\u001b[0m\u001b[1;33m)\u001b[0m\u001b[1;33m\u001b[0m\u001b[0m\n\u001b[0m\u001b[0;32m   2323\u001b[0m         \u001b[1;32mtry\u001b[0m\u001b[1;33m:\u001b[0m\u001b[1;33m\u001b[0m\u001b[0m\n\u001b[0;32m   2324\u001b[0m             \u001b[1;32mreturn\u001b[0m \u001b[0mfunctools\u001b[0m\u001b[1;33m.\u001b[0m\u001b[0mreduce\u001b[0m\u001b[1;33m(\u001b[0m\u001b[0mgetattr\u001b[0m\u001b[1;33m,\u001b[0m \u001b[0mself\u001b[0m\u001b[1;33m.\u001b[0m\u001b[0mattrs\u001b[0m\u001b[1;33m,\u001b[0m \u001b[0mmodule\u001b[0m\u001b[1;33m)\u001b[0m\u001b[1;33m\u001b[0m\u001b[0m\n",
      "\u001b[1;32md:\\dev\\my_git\\github\\gym\\gym\\envs\\board_game\\__init__.py\u001b[0m in \u001b[0;36m<module>\u001b[1;34m()\u001b[0m\n\u001b[1;32m----> 1\u001b[1;33m \u001b[1;32mfrom\u001b[0m \u001b[0mgym\u001b[0m\u001b[1;33m.\u001b[0m\u001b[0menvs\u001b[0m\u001b[1;33m.\u001b[0m\u001b[0mboard_game\u001b[0m\u001b[1;33m.\u001b[0m\u001b[0mgo\u001b[0m \u001b[1;32mimport\u001b[0m \u001b[0mGoEnv\u001b[0m\u001b[1;33m\u001b[0m\u001b[0m\n\u001b[0m\u001b[0;32m      2\u001b[0m \u001b[1;32mfrom\u001b[0m \u001b[0mgym\u001b[0m\u001b[1;33m.\u001b[0m\u001b[0menvs\u001b[0m\u001b[1;33m.\u001b[0m\u001b[0mboard_game\u001b[0m\u001b[1;33m.\u001b[0m\u001b[0mhex\u001b[0m \u001b[1;32mimport\u001b[0m \u001b[0mHexEnv\u001b[0m\u001b[1;33m\u001b[0m\u001b[0m\n",
      "\u001b[1;32md:\\dev\\my_git\\github\\gym\\gym\\envs\\board_game\\go.py\u001b[0m in \u001b[0;36m<module>\u001b[1;34m()\u001b[0m\n\u001b[0;32m      4\u001b[0m \u001b[1;32mexcept\u001b[0m \u001b[0mImportError\u001b[0m \u001b[1;32mas\u001b[0m \u001b[0me\u001b[0m\u001b[1;33m:\u001b[0m\u001b[1;33m\u001b[0m\u001b[0m\n\u001b[0;32m      5\u001b[0m     \u001b[1;31m# The dependency group [pachi] should match the name is setup.py.\u001b[0m\u001b[1;33m\u001b[0m\u001b[1;33m\u001b[0m\u001b[0m\n\u001b[1;32m----> 6\u001b[1;33m     \u001b[1;32mraise\u001b[0m \u001b[0merror\u001b[0m\u001b[1;33m.\u001b[0m\u001b[0mDependencyNotInstalled\u001b[0m\u001b[1;33m(\u001b[0m\u001b[1;34m'{}. (HINT: you may need to install the Go dependencies via \"pip install gym[pachi]\".)'\u001b[0m\u001b[1;33m.\u001b[0m\u001b[0mformat\u001b[0m\u001b[1;33m(\u001b[0m\u001b[0me\u001b[0m\u001b[1;33m)\u001b[0m\u001b[1;33m)\u001b[0m\u001b[1;33m\u001b[0m\u001b[0m\n\u001b[0m\u001b[0;32m      7\u001b[0m \u001b[1;33m\u001b[0m\u001b[0m\n\u001b[0;32m      8\u001b[0m \u001b[1;32mimport\u001b[0m \u001b[0mnumpy\u001b[0m \u001b[1;32mas\u001b[0m \u001b[0mnp\u001b[0m\u001b[1;33m\u001b[0m\u001b[0m\n",
      "\u001b[1;31mDependencyNotInstalled\u001b[0m: No module named 'pachi_py'. (HINT: you may need to install the Go dependencies via \"pip install gym[pachi]\".)"
     ]
    }
   ],
   "source": [
    "import gym\n",
    "env = gym.make('Go9x9-v0')\n",
    "for i_episode in range(20):\n",
    "    observation = env.reset()\n",
    "    for t in range(100):\n",
    "        env.render()\n",
    "        print(observation)\n",
    "        action = env.action_space.sample()\n",
    "        observation, reward, done, info = env.step(action)\n",
    "        if done:\n",
    "            print(\"Episode finished after {} timesteps\".format(t+1))\n",
    "            break"
   ]
  },
  {
   "cell_type": "code",
   "execution_count": 52,
   "metadata": {},
   "outputs": [
    {
     "name": "stdout",
     "output_type": "stream",
     "text": [
      "[  4.80000000e+00   3.40282347e+38   4.18879020e-01   3.40282347e+38]\n"
     ]
    }
   ],
   "source": [
    "print(env.observation_space.high)"
   ]
  },
  {
   "cell_type": "code",
   "execution_count": 53,
   "metadata": {},
   "outputs": [
    {
     "name": "stdout",
     "output_type": "stream",
     "text": [
      "[ -4.80000000e+00  -3.40282347e+38  -4.18879020e-01  -3.40282347e+38]\n"
     ]
    }
   ],
   "source": [
    "print(env.observation_space.low)\n"
   ]
  },
  {
   "cell_type": "code",
   "execution_count": 54,
   "metadata": {},
   "outputs": [
    {
     "data": {
      "text/plain": [
       "(4,)"
      ]
     },
     "execution_count": 54,
     "metadata": {},
     "output_type": "execute_result"
    }
   ],
   "source": [
    "env.observation_space.shape"
   ]
  },
  {
   "cell_type": "code",
   "execution_count": 55,
   "metadata": {},
   "outputs": [
    {
     "name": "stdout",
     "output_type": "stream",
     "text": [
      "3\n"
     ]
    }
   ],
   "source": [
    "from gym import spaces\n",
    "space = spaces.Discrete(8) # Set with 8 elements {0, 1, 2, ..., 7}\n",
    "x = space.sample()\n",
    "print(x)\n",
    "assert space.contains(x)\n",
    "assert space.n == 8"
   ]
  },
  {
   "cell_type": "code",
   "execution_count": 56,
   "metadata": {},
   "outputs": [
    {
     "name": "stdout",
     "output_type": "stream",
     "text": [
      "[ 3682.41539841]\n"
     ]
    }
   ],
   "source": [
    "space2 = spaces.Box(high=10000,low=0, shape = 1)\n",
    "print(space2.sample())"
   ]
  },
  {
   "cell_type": "code",
   "execution_count": 57,
   "metadata": {},
   "outputs": [],
   "source": [
    "import numpy as np\n",
    "space3 = spaces.Box(high = 10, low= -10, shape = (1,2))"
   ]
  },
  {
   "cell_type": "code",
   "execution_count": 46,
   "metadata": {},
   "outputs": [
    {
     "data": {
      "text/plain": [
       "(1, 2)"
      ]
     },
     "execution_count": 46,
     "metadata": {},
     "output_type": "execute_result"
    }
   ],
   "source": [
    "space3.shape"
   ]
  },
  {
   "cell_type": "code",
   "execution_count": 47,
   "metadata": {},
   "outputs": [
    {
     "data": {
      "text/plain": [
       "array([[-8.57927884, -8.25741401]])"
      ]
     },
     "execution_count": 47,
     "metadata": {},
     "output_type": "execute_result"
    }
   ],
   "source": [
    "space3.sample()"
   ]
  },
  {
   "cell_type": "code",
   "execution_count": 49,
   "metadata": {},
   "outputs": [
    {
     "name": "stdout",
     "output_type": "stream",
     "text": [
      "dict_values([EnvSpec(ConvergenceControl-v0), EnvSpec(KungFuMasterDeterministic-v4), EnvSpec(DoubleDunk-ramDeterministic-v0), EnvSpec(Gopher-ramDeterministic-v4), EnvSpec(PrivateEye-ram-v0), EnvSpec(ElevatorActionDeterministic-v4), EnvSpec(SpaceInvaders-ramNoFrameskip-v4), EnvSpec(CentipedeDeterministic-v0), EnvSpec(DoubleDunk-v0), EnvSpec(LunarLander-v2), EnvSpec(Venture-v4), EnvSpec(UpNDown-ramNoFrameskip-v0), EnvSpec(AsteroidsDeterministic-v0), EnvSpec(Blackjack-v0), EnvSpec(Phoenix-ram-v4), EnvSpec(BattleZoneDeterministic-v0), EnvSpec(Hero-ramDeterministic-v4), EnvSpec(Jamesbond-ram-v0), EnvSpec(FishingDerby-ram-v4), EnvSpec(Zaxxon-ramDeterministic-v4), EnvSpec(Pong-ramNoFrameskip-v0), EnvSpec(Solaris-ramDeterministic-v4), EnvSpec(KrullNoFrameskip-v4), EnvSpec(MontezumaRevenge-ramDeterministic-v4), EnvSpec(Gopher-ram-v4), EnvSpec(KungFuMasterNoFrameskip-v4), EnvSpec(MontezumaRevenge-ramDeterministic-v0), EnvSpec(ReversedAddition-v0), EnvSpec(GravitarNoFrameskip-v4), EnvSpec(BeamRiderDeterministic-v4), EnvSpec(Copy-v0), EnvSpec(Kangaroo-v0), EnvSpec(PongNoFrameskip-v0), EnvSpec(Berzerk-ramNoFrameskip-v4), EnvSpec(Centipede-ram-v0), EnvSpec(Bowling-ram-v4), EnvSpec(Robotank-v4), EnvSpec(FrozenLake8x8-v0), EnvSpec(Gravitar-ramNoFrameskip-v4), EnvSpec(AmidarNoFrameskip-v4), EnvSpec(ElevatorActionDeterministic-v0), EnvSpec(SpaceInvadersDeterministic-v4), EnvSpec(AirRaidDeterministic-v4), EnvSpec(ZaxxonDeterministic-v0), EnvSpec(BeamRider-v0), EnvSpec(JourneyEscape-ramNoFrameskip-v4), EnvSpec(PrivateEye-ramNoFrameskip-v4), EnvSpec(NameThisGameDeterministic-v4), EnvSpec(Gravitar-v0), EnvSpec(DoubleDunk-ramNoFrameskip-v4), EnvSpec(Robotank-ram-v4), EnvSpec(Bowling-ramNoFrameskip-v4), EnvSpec(SolarisDeterministic-v0), EnvSpec(TimePilot-ram-v0), EnvSpec(TutankhamDeterministic-v0), EnvSpec(UpNDownDeterministic-v4), EnvSpec(SpaceInvaders-ramNoFrameskip-v0), EnvSpec(Bowling-ramDeterministic-v4), EnvSpec(ChopperCommand-ramNoFrameskip-v0), EnvSpec(CliffWalking-v0), EnvSpec(Alien-ramDeterministic-v0), EnvSpec(Gravitar-ramNoFrameskip-v0), EnvSpec(ElevatorActionNoFrameskip-v4), EnvSpec(EnduroNoFrameskip-v0), EnvSpec(Tutankham-v0), EnvSpec(NameThisGameNoFrameskip-v4), EnvSpec(SpaceInvaders-v0), EnvSpec(AsterixNoFrameskip-v4), EnvSpec(Boxing-v4), EnvSpec(SpaceInvadersNoFrameskip-v4), EnvSpec(Pitfall-ram-v0), EnvSpec(VideoPinball-ramDeterministic-v4), EnvSpec(Krull-v0), EnvSpec(VentureDeterministic-v0), EnvSpec(Atlantis-v0), EnvSpec(PrivateEye-ramDeterministic-v0), EnvSpec(Carnival-ramNoFrameskip-v0), EnvSpec(KungFuMaster-v0), EnvSpec(QbertNoFrameskip-v4), EnvSpec(Tennis-ramDeterministic-v4), EnvSpec(KungFuMaster-ramNoFrameskip-v0), EnvSpec(AtlantisDeterministic-v4), EnvSpec(AsteroidsNoFrameskip-v0), EnvSpec(Kangaroo-ram-v0), EnvSpec(RoadRunner-v0), EnvSpec(Qbert-ramDeterministic-v0), EnvSpec(Riverraid-ramNoFrameskip-v0), EnvSpec(ZaxxonNoFrameskip-v4), EnvSpec(AtlantisDeterministic-v0), EnvSpec(DoubleDunk-v4), EnvSpec(Enduro-ramDeterministic-v4), EnvSpec(OneRoundDeterministicReward-v0), EnvSpec(SeaquestDeterministic-v0), EnvSpec(IceHockey-v4), EnvSpec(ChopperCommandDeterministic-v4), EnvSpec(Krull-ram-v4), EnvSpec(GravitarDeterministic-v4), EnvSpec(BattleZone-ramNoFrameskip-v4), EnvSpec(Pooyan-ram-v4), EnvSpec(Berzerk-v4), EnvSpec(PongNoFrameskip-v4), EnvSpec(Enduro-ramDeterministic-v0), EnvSpec(BerzerkNoFrameskip-v0), EnvSpec(Freeway-ramNoFrameskip-v0), EnvSpec(VentureDeterministic-v4), EnvSpec(BeamRider-ramDeterministic-v0), EnvSpec(VideoPinball-ramNoFrameskip-v0), EnvSpec(CarnivalDeterministic-v4), EnvSpec(FreewayNoFrameskip-v0), EnvSpec(TimePilot-v0), EnvSpec(AsterixDeterministic-v0), EnvSpec(Pooyan-ramDeterministic-v4), EnvSpec(Skiing-ram-v4), EnvSpec(BankHeist-v4), EnvSpec(Pong-ramDeterministic-v0), EnvSpec(ElevatorAction-ram-v4), EnvSpec(MsPacman-v0), EnvSpec(QbertDeterministic-v4), EnvSpec(TennisNoFrameskip-v0), EnvSpec(BerzerkNoFrameskip-v4), EnvSpec(Bowling-ramDeterministic-v0), EnvSpec(Venture-ram-v0), EnvSpec(MsPacman-ramDeterministic-v4), EnvSpec(StarGunner-ramDeterministic-v0), EnvSpec(TutankhamNoFrameskip-v0), EnvSpec(UpNDown-v4), EnvSpec(KangarooDeterministic-v0), EnvSpec(CartPole-v0), EnvSpec(MountainCar-v0), EnvSpec(TutankhamDeterministic-v4), EnvSpec(Berzerk-ram-v0), EnvSpec(Enduro-ramNoFrameskip-v0), EnvSpec(ElevatorAction-v0), EnvSpec(Robotank-ramDeterministic-v0), EnvSpec(WizardOfWor-v4), EnvSpec(Alien-ram-v0), EnvSpec(Gopher-ramDeterministic-v0), EnvSpec(BeamRiderDeterministic-v0), EnvSpec(Kangaroo-ramNoFrameskip-v0), EnvSpec(AirRaid-ramDeterministic-v0), EnvSpec(TimePilot-ramNoFrameskip-v4), EnvSpec(UpNDownNoFrameskip-v4), EnvSpec(KungFuMasterNoFrameskip-v0), EnvSpec(Breakout-ramDeterministic-v4), EnvSpec(Venture-ramNoFrameskip-v0), EnvSpec(Seaquest-v0), EnvSpec(VentureNoFrameskip-v0), EnvSpec(BoxingDeterministic-v4), EnvSpec(Taxi-v2), EnvSpec(StarGunner-ram-v0), EnvSpec(TimePilotNoFrameskip-v4), EnvSpec(YarsRevenge-ramDeterministic-v0), EnvSpec(Venture-ram-v4), EnvSpec(CarnivalDeterministic-v0), EnvSpec(Frostbite-v0), EnvSpec(BankHeist-ram-v0), EnvSpec(CrazyClimber-ramDeterministic-v0), EnvSpec(JourneyEscape-ram-v0), EnvSpec(Atlantis-ramDeterministic-v0), EnvSpec(Venture-v0), EnvSpec(Gravitar-v4), EnvSpec(KungFuMaster-ram-v4), EnvSpec(Phoenix-ramNoFrameskip-v4), EnvSpec(SolarisDeterministic-v4), EnvSpec(MontezumaRevengeNoFrameskip-v4), EnvSpec(Enduro-ramNoFrameskip-v4), EnvSpec(Enduro-ram-v0), EnvSpec(RoadRunnerDeterministic-v4), EnvSpec(CartPole-v1), EnvSpec(Pooyan-v4), EnvSpec(Solaris-ram-v0), EnvSpec(RiverraidDeterministic-v4), EnvSpec(ChopperCommand-ramDeterministic-v0), EnvSpec(CentipedeNoFrameskip-v0), EnvSpec(GopherDeterministic-v4), EnvSpec(WizardOfWorDeterministic-v0), EnvSpec(FishingDerbyNoFrameskip-v0), EnvSpec(PitfallDeterministic-v0), EnvSpec(Asteroids-ramDeterministic-v0), EnvSpec(Jamesbond-ramNoFrameskip-v4), EnvSpec(IceHockeyDeterministic-v0), EnvSpec(IceHockey-ramNoFrameskip-v0), EnvSpec(KungFuMaster-ram-v0), EnvSpec(Krull-ramNoFrameskip-v0), EnvSpec(Riverraid-ramNoFrameskip-v4), EnvSpec(RobotankDeterministic-v0), EnvSpec(Centipede-v4), EnvSpec(MontezumaRevenge-ramNoFrameskip-v4), EnvSpec(SemisuperPendulumRandom-v0), EnvSpec(Asterix-ram-v0), EnvSpec(GravitarNoFrameskip-v0), EnvSpec(DuplicatedInput-v0), EnvSpec(QbertDeterministic-v0), EnvSpec(AsterixDeterministic-v4), EnvSpec(WizardOfWor-v0), EnvSpec(DoubleDunkNoFrameskip-v4), EnvSpec(Solaris-ramNoFrameskip-v0), EnvSpec(ElevatorAction-v4), EnvSpec(BeamRider-ramNoFrameskip-v4), EnvSpec(Riverraid-v0), EnvSpec(BreakoutNoFrameskip-v4), EnvSpec(Bowling-ram-v0), EnvSpec(BankHeistNoFrameskip-v4), EnvSpec(GravitarDeterministic-v0), EnvSpec(Jamesbond-ram-v4), EnvSpec(AirRaid-ramNoFrameskip-v0), EnvSpec(TimePilotDeterministic-v0), EnvSpec(Alien-ram-v4), EnvSpec(Hero-ram-v4), EnvSpec(Freeway-v0), EnvSpec(Carnival-ramDeterministic-v0), EnvSpec(StarGunnerDeterministic-v0), EnvSpec(FrostbiteNoFrameskip-v4), EnvSpec(RoadRunner-ramNoFrameskip-v4), EnvSpec(PrivateEye-ram-v4), EnvSpec(Phoenix-ramNoFrameskip-v0), EnvSpec(SpaceInvadersDeterministic-v0), EnvSpec(PrivateEyeDeterministic-v4), EnvSpec(RepeatCopy-v0), EnvSpec(FrostbiteDeterministic-v4), EnvSpec(Bowling-v0), EnvSpec(SkiingNoFrameskip-v0), EnvSpec(RobotankNoFrameskip-v4), EnvSpec(MontezumaRevenge-v0), EnvSpec(Krull-ramDeterministic-v4), EnvSpec(BreakoutNoFrameskip-v0), EnvSpec(Humanoid-v1), EnvSpec(Hero-ramDeterministic-v0), EnvSpec(RobotankNoFrameskip-v0), EnvSpec(BowlingNoFrameskip-v0), EnvSpec(Tutankham-ramDeterministic-v4), EnvSpec(GuessingGame-v0), EnvSpec(Qbert-ramDeterministic-v4), EnvSpec(Phoenix-ram-v0), EnvSpec(Robotank-ramNoFrameskip-v4), EnvSpec(VideoPinball-ramDeterministic-v0), EnvSpec(YarsRevengeDeterministic-v4), EnvSpec(KellyCoinflipGeneralized-v0), EnvSpec(PrivateEyeNoFrameskip-v0), EnvSpec(FishingDerby-ramDeterministic-v0), EnvSpec(Riverraid-ramDeterministic-v0), EnvSpec(JourneyEscape-ramDeterministic-v4), EnvSpec(WizardOfWor-ramDeterministic-v4), EnvSpec(Enduro-v0), EnvSpec(Alien-v0), EnvSpec(YarsRevengeNoFrameskip-v0), EnvSpec(Qbert-ramNoFrameskip-v0), EnvSpec(IceHockeyNoFrameskip-v4), EnvSpec(AssaultDeterministic-v4), EnvSpec(Pong-v4), EnvSpec(Go9x9-v0), EnvSpec(Berzerk-v0), EnvSpec(ElevatorAction-ramDeterministic-v0), EnvSpec(Pong-ramNoFrameskip-v4), EnvSpec(Berzerk-ramDeterministic-v4), EnvSpec(Zaxxon-v0), EnvSpec(JourneyEscape-ramDeterministic-v0), EnvSpec(Tennis-ramNoFrameskip-v0), EnvSpec(Jamesbond-v4), EnvSpec(Solaris-ramNoFrameskip-v4), EnvSpec(JamesbondNoFrameskip-v0), EnvSpec(SpaceInvaders-ram-v4), EnvSpec(CrazyClimberNoFrameskip-v4), EnvSpec(InvertedDoublePendulum-v1), EnvSpec(OffSwitchCartpole-v0), EnvSpec(Kangaroo-ramNoFrameskip-v4), EnvSpec(ChopperCommand-ramNoFrameskip-v4), EnvSpec(BattleZoneNoFrameskip-v4), EnvSpec(CrazyClimber-ramDeterministic-v4), EnvSpec(Seaquest-ramNoFrameskip-v4), EnvSpec(HeroNoFrameskip-v0), EnvSpec(UpNDown-ram-v0), EnvSpec(PhoenixDeterministic-v4), EnvSpec(CarnivalNoFrameskip-v0), EnvSpec(KrullDeterministic-v0), EnvSpec(MsPacmanDeterministic-v0), EnvSpec(DemonAttack-ramNoFrameskip-v0), EnvSpec(AsteroidsDeterministic-v4), EnvSpec(Boxing-ramDeterministic-v4), EnvSpec(Carnival-v0), EnvSpec(Tutankham-ramNoFrameskip-v0), EnvSpec(BattleZone-v0), EnvSpec(DemonAttackDeterministic-v4), EnvSpec(Breakout-ram-v4), EnvSpec(Assault-ramDeterministic-v4), EnvSpec(TimePilotDeterministic-v4), EnvSpec(Carnival-ramDeterministic-v4), EnvSpec(MsPacman-v4), EnvSpec(UpNDownDeterministic-v0), EnvSpec(Seaquest-ramDeterministic-v4), EnvSpec(Asteroids-ram-v4), EnvSpec(AssaultDeterministic-v0), EnvSpec(Assault-v0), EnvSpec(Pitfall-v4), EnvSpec(KangarooNoFrameskip-v0), EnvSpec(Centipede-ramDeterministic-v0), EnvSpec(GopherNoFrameskip-v0), EnvSpec(AsterixNoFrameskip-v0), EnvSpec(EnduroDeterministic-v4), EnvSpec(Robotank-ramDeterministic-v4), EnvSpec(Roulette-v0), EnvSpec(Kangaroo-ramDeterministic-v4), EnvSpec(Tennis-ram-v4), EnvSpec(Gravitar-ram-v4), EnvSpec(IceHockey-ramNoFrameskip-v4), EnvSpec(Jamesbond-ramDeterministic-v4), EnvSpec(Breakout-v0), EnvSpec(BeamRiderNoFrameskip-v0), EnvSpec(AirRaidNoFrameskip-v4), EnvSpec(Solaris-ram-v4), EnvSpec(VideoPinball-v0), EnvSpec(StarGunner-v0), EnvSpec(PitfallNoFrameskip-v0), EnvSpec(Pong-v0), EnvSpec(Alien-ramNoFrameskip-v4), EnvSpec(Walker2d-v1), EnvSpec(YarsRevenge-ramNoFrameskip-v0), EnvSpec(Pooyan-ramNoFrameskip-v0), EnvSpec(VideoPinball-ram-v0), EnvSpec(Pitfall-ramNoFrameskip-v0), EnvSpec(ElevatorActionNoFrameskip-v0), EnvSpec(MsPacmanDeterministic-v4), EnvSpec(TimePilotNoFrameskip-v0), EnvSpec(DemonAttack-ramDeterministic-v0), EnvSpec(HeroDeterministic-v0), EnvSpec(Boxing-v0), EnvSpec(Gopher-ramNoFrameskip-v4), EnvSpec(MontezumaRevenge-ramNoFrameskip-v0), EnvSpec(BowlingNoFrameskip-v4), EnvSpec(PhoenixDeterministic-v0), EnvSpec(FishingDerby-ramDeterministic-v4), EnvSpec(Krull-v4), EnvSpec(NameThisGame-ramDeterministic-v0), EnvSpec(PhoenixNoFrameskip-v4), EnvSpec(Alien-v4), EnvSpec(BowlingDeterministic-v0), EnvSpec(EnduroNoFrameskip-v4), EnvSpec(IceHockey-ramDeterministic-v4), EnvSpec(RoadRunner-ramDeterministic-v0), EnvSpec(Breakout-ramDeterministic-v0), EnvSpec(Solaris-v0), EnvSpec(TennisDeterministic-v4), EnvSpec(WizardOfWor-ramDeterministic-v0), EnvSpec(NameThisGame-v0), EnvSpec(TwoRoundDeterministicReward-v0), EnvSpec(Bowling-ramNoFrameskip-v0), EnvSpec(MsPacman-ram-v0), EnvSpec(Zaxxon-ramDeterministic-v0), EnvSpec(TwoRoundNondeterministicReward-v0), EnvSpec(StarGunnerNoFrameskip-v0), EnvSpec(ChopperCommand-ram-v0), EnvSpec(Asterix-ramNoFrameskip-v0), EnvSpec(CrazyClimberDeterministic-v4), EnvSpec(Solaris-ramDeterministic-v0), EnvSpec(AsteroidsNoFrameskip-v4), EnvSpec(TimePilot-v4), EnvSpec(PrivateEyeDeterministic-v0), EnvSpec(IceHockey-ram-v0), EnvSpec(Qbert-ram-v0), EnvSpec(SeaquestDeterministic-v4), EnvSpec(Pitfall-ramDeterministic-v4), EnvSpec(MontezumaRevengeNoFrameskip-v0), EnvSpec(AirRaid-v0), EnvSpec(Skiing-ram-v0), EnvSpec(WizardOfWorNoFrameskip-v0), EnvSpec(Tennis-ramDeterministic-v0), EnvSpec(FishingDerby-ram-v0), EnvSpec(SpaceInvaders-ram-v0), EnvSpec(Ant-v1), EnvSpec(RoadRunner-ram-v0), EnvSpec(ChopperCommandNoFrameskip-v4), EnvSpec(FishingDerbyDeterministic-v4), EnvSpec(PrivateEye-v4), EnvSpec(Zaxxon-ramNoFrameskip-v4), EnvSpec(StarGunner-ramNoFrameskip-v4), EnvSpec(Tennis-ramNoFrameskip-v4), EnvSpec(StarGunner-ram-v4), EnvSpec(UpNDown-ram-v4), EnvSpec(Go19x19-v0), EnvSpec(AssaultNoFrameskip-v0), EnvSpec(CentipedeDeterministic-v4), EnvSpec(FishingDerby-v4), EnvSpec(MontezumaRevenge-ram-v4), EnvSpec(Carnival-ram-v4), EnvSpec(Atlantis-ramNoFrameskip-v0), EnvSpec(AirRaid-ram-v0), EnvSpec(KrullDeterministic-v4), EnvSpec(Tutankham-ramDeterministic-v0), EnvSpec(DoubleDunk-ramNoFrameskip-v0), EnvSpec(DemonAttack-ramNoFrameskip-v4), EnvSpec(FishingDerby-ramNoFrameskip-v0), EnvSpec(PooyanNoFrameskip-v4), EnvSpec(Asterix-v0), EnvSpec(HeroDeterministic-v4), EnvSpec(NameThisGame-ramDeterministic-v4), EnvSpec(DemonAttack-v0), EnvSpec(Kangaroo-ramDeterministic-v0), EnvSpec(Pooyan-v0), EnvSpec(JourneyEscapeDeterministic-v0), EnvSpec(Zaxxon-ram-v0), EnvSpec(VideoPinball-v4), EnvSpec(VideoPinballNoFrameskip-v0), EnvSpec(Assault-ram-v4), EnvSpec(Carnival-ram-v0), EnvSpec(BoxingNoFrameskip-v0), EnvSpec(Robotank-v0), EnvSpec(Pong-ramDeterministic-v4), EnvSpec(BattleZoneDeterministic-v4), EnvSpec(Asteroids-ramDeterministic-v4), EnvSpec(Seaquest-v4), EnvSpec(WizardOfWor-ramNoFrameskip-v4), EnvSpec(MsPacman-ramDeterministic-v0), EnvSpec(ElevatorAction-ramDeterministic-v4), EnvSpec(Breakout-ramNoFrameskip-v0), EnvSpec(Asteroids-v0), EnvSpec(Freeway-ramDeterministic-v0), EnvSpec(Tennis-v4), EnvSpec(DemonAttack-ram-v4), EnvSpec(RoadRunnerNoFrameskip-v0), EnvSpec(JourneyEscapeDeterministic-v4), EnvSpec(Phoenix-ramDeterministic-v0), EnvSpec(Assault-ramNoFrameskip-v0), EnvSpec(NameThisGame-v4), EnvSpec(Amidar-ramNoFrameskip-v4), EnvSpec(Asterix-v4), EnvSpec(GopherNoFrameskip-v4), EnvSpec(Pooyan-ram-v0), EnvSpec(Skiing-ramNoFrameskip-v4), EnvSpec(FreewayNoFrameskip-v4), EnvSpec(Freeway-ram-v4), EnvSpec(KungFuMaster-v4), EnvSpec(FishingDerbyDeterministic-v0), EnvSpec(Gopher-v0), EnvSpec(Amidar-ramNoFrameskip-v0), EnvSpec(Thrower-v0), EnvSpec(NameThisGame-ramNoFrameskip-v0), EnvSpec(MsPacmanNoFrameskip-v0), EnvSpec(CrazyClimber-v4), EnvSpec(Assault-ramNoFrameskip-v4), EnvSpec(Asterix-ramNoFrameskip-v4), EnvSpec(TimePilot-ramDeterministic-v4), EnvSpec(Asteroids-ramNoFrameskip-v0), EnvSpec(Pooyan-ramNoFrameskip-v4), EnvSpec(Hopper-v1), EnvSpec(BattleZone-ramNoFrameskip-v0), EnvSpec(Phoenix-v4), EnvSpec(SpaceInvadersNoFrameskip-v0), EnvSpec(Atlantis-ramNoFrameskip-v4), EnvSpec(Hero-ramNoFrameskip-v4), EnvSpec(Seaquest-ramDeterministic-v0), EnvSpec(PongDeterministic-v4), EnvSpec(Pusher-v0), EnvSpec(KungFuMaster-ramDeterministic-v0), EnvSpec(Kangaroo-v4), EnvSpec(StarGunner-ramDeterministic-v4), EnvSpec(BattleZone-ram-v4), EnvSpec(RoadRunner-v4), EnvSpec(Frostbite-ram-v0), EnvSpec(CentipedeNoFrameskip-v4), EnvSpec(Atlantis-v4), EnvSpec(Asteroids-ramNoFrameskip-v4), EnvSpec(BeamRider-ramDeterministic-v4), EnvSpec(Atlantis-ram-v4), EnvSpec(FreewayDeterministic-v0), EnvSpec(OffSwitchCartpoleProb-v0), EnvSpec(WizardOfWor-ram-v4), EnvSpec(Frostbite-v4), EnvSpec(BankHeist-ramNoFrameskip-v0), EnvSpec(RoadRunnerNoFrameskip-v4), EnvSpec(KangarooDeterministic-v4), EnvSpec(SkiingDeterministic-v4), EnvSpec(ChopperCommand-ram-v4), EnvSpec(RiverraidNoFrameskip-v4), EnvSpec(BattleZoneNoFrameskip-v0), EnvSpec(RoadRunner-ram-v4), EnvSpec(Robotank-ram-v0), EnvSpec(Krull-ram-v0), EnvSpec(Tutankham-v4), EnvSpec(Venture-ramDeterministic-v4), EnvSpec(Reacher-v1), EnvSpec(VideoPinball-ram-v4), EnvSpec(Berzerk-ramDeterministic-v0), EnvSpec(PooyanNoFrameskip-v0), EnvSpec(CNNClassifierTraining-v0), EnvSpec(MsPacman-ramNoFrameskip-v4), EnvSpec(ChopperCommandNoFrameskip-v0), EnvSpec(WizardOfWor-ramNoFrameskip-v0), EnvSpec(Freeway-v4), EnvSpec(Breakout-ram-v0), EnvSpec(EnduroDeterministic-v0), EnvSpec(DemonAttack-ram-v0), EnvSpec(BattleZone-ramDeterministic-v4), EnvSpec(RobotankDeterministic-v4), EnvSpec(Hero-v0), EnvSpec(Seaquest-ramNoFrameskip-v0), EnvSpec(ReversedAddition3-v0), EnvSpec(Venture-ramNoFrameskip-v4), EnvSpec(FrostbiteDeterministic-v0), EnvSpec(Pitfall-ramNoFrameskip-v4), EnvSpec(MontezumaRevengeDeterministic-v0), EnvSpec(MontezumaRevengeDeterministic-v4), EnvSpec(DoubleDunkNoFrameskip-v0), EnvSpec(Frostbite-ramNoFrameskip-v4), EnvSpec(Riverraid-v4), EnvSpec(Centipede-ramDeterministic-v4), EnvSpec(ChopperCommand-v0), EnvSpec(Berzerk-ramNoFrameskip-v0), EnvSpec(BankHeist-ramNoFrameskip-v4), EnvSpec(LunarLanderContinuous-v2), EnvSpec(ZaxxonNoFrameskip-v0), EnvSpec(Pitfall-ramDeterministic-v0), EnvSpec(DemonAttack-ramDeterministic-v4), EnvSpec(SemisuperPendulumDecay-v0), EnvSpec(NChain-v0), EnvSpec(Gopher-v4), EnvSpec(YarsRevenge-ram-v0), EnvSpec(Assault-ramDeterministic-v0), EnvSpec(BreakoutDeterministic-v0), EnvSpec(SkiingNoFrameskip-v4), EnvSpec(UpNDownNoFrameskip-v0), EnvSpec(AirRaidDeterministic-v0), EnvSpec(Gravitar-ram-v0), EnvSpec(Tennis-ram-v0), EnvSpec(BankHeist-ramDeterministic-v0), EnvSpec(PrivateEyeNoFrameskip-v4), EnvSpec(SpaceInvaders-ramDeterministic-v4), EnvSpec(BankHeist-ramDeterministic-v4), EnvSpec(Riverraid-ramDeterministic-v4), EnvSpec(Gopher-ram-v0), EnvSpec(Amidar-v4), EnvSpec(Qbert-v4), EnvSpec(Tutankham-ramNoFrameskip-v4), EnvSpec(PooyanDeterministic-v4), EnvSpec(BipedalWalker-v2), EnvSpec(NameThisGame-ram-v4), EnvSpec(JourneyEscape-ramNoFrameskip-v0), EnvSpec(YarsRevenge-ram-v4), EnvSpec(ChopperCommand-ramDeterministic-v4), EnvSpec(Qbert-ramNoFrameskip-v4), EnvSpec(MsPacman-ramNoFrameskip-v0), EnvSpec(Hex9x9-v0), EnvSpec(CrazyClimber-ram-v4), EnvSpec(CrazyClimber-ram-v0), EnvSpec(Robotank-ramNoFrameskip-v0), EnvSpec(BankHeistDeterministic-v4), EnvSpec(Qbert-v0), EnvSpec(HumanoidStandup-v1), EnvSpec(Freeway-ramNoFrameskip-v4), EnvSpec(PitfallNoFrameskip-v4), EnvSpec(Pitfall-ram-v4), EnvSpec(YarsRevengeNoFrameskip-v4), EnvSpec(AssaultNoFrameskip-v4), EnvSpec(AirRaid-ramDeterministic-v4), EnvSpec(WizardOfWorDeterministic-v4), EnvSpec(FishingDerby-ramNoFrameskip-v4), EnvSpec(Striker-v0), EnvSpec(MountainCarContinuous-v0), EnvSpec(YarsRevengeDeterministic-v0), EnvSpec(Freeway-ramDeterministic-v4), EnvSpec(ChopperCommandDeterministic-v0), EnvSpec(PhoenixNoFrameskip-v0), EnvSpec(Riverraid-ram-v4), EnvSpec(RiverraidNoFrameskip-v0), EnvSpec(Swimmer-v1), EnvSpec(KungFuMaster-ramDeterministic-v4), EnvSpec(Seaquest-ram-v4), EnvSpec(StarGunner-ramNoFrameskip-v0), EnvSpec(DemonAttack-v4), EnvSpec(VentureNoFrameskip-v4), EnvSpec(AirRaidNoFrameskip-v0), EnvSpec(BeamRiderNoFrameskip-v4), EnvSpec(Krull-ramDeterministic-v0), EnvSpec(DemonAttackNoFrameskip-v0), EnvSpec(BeamRider-v4), EnvSpec(Atlantis-ramDeterministic-v4), EnvSpec(JourneyEscapeNoFrameskip-v4), EnvSpec(AirRaid-ram-v4), EnvSpec(Pitfall-v0), EnvSpec(Solaris-v4), EnvSpec(Berzerk-ram-v4), EnvSpec(CrazyClimberNoFrameskip-v0), EnvSpec(Zaxxon-v4), EnvSpec(SeaquestNoFrameskip-v4), EnvSpec(PrivateEye-ramDeterministic-v4), EnvSpec(KrullNoFrameskip-v0), EnvSpec(KungFuMasterDeterministic-v0), EnvSpec(Skiing-ramDeterministic-v0), EnvSpec(Amidar-ramDeterministic-v4), EnvSpec(DoubleDunk-ram-v4), EnvSpec(DoubleDunkDeterministic-v4), EnvSpec(Boxing-ramNoFrameskip-v4), EnvSpec(Amidar-v0), EnvSpec(Alien-ramNoFrameskip-v0), EnvSpec(Tennis-v0), EnvSpec(PooyanDeterministic-v0), EnvSpec(Asterix-ramDeterministic-v4), EnvSpec(JourneyEscape-ram-v4), EnvSpec(CarnivalNoFrameskip-v4), EnvSpec(DoubleDunkDeterministic-v0), EnvSpec(AmidarDeterministic-v4), EnvSpec(Boxing-ram-v0), EnvSpec(DemonAttackDeterministic-v0), EnvSpec(TutankhamNoFrameskip-v4), EnvSpec(AmidarNoFrameskip-v0), EnvSpec(CrazyClimberDeterministic-v0), EnvSpec(NameThisGame-ram-v0), EnvSpec(Boxing-ramDeterministic-v0), EnvSpec(Reverse-v0), EnvSpec(FrostbiteNoFrameskip-v0), EnvSpec(AmidarDeterministic-v0), EnvSpec(BerzerkDeterministic-v4), EnvSpec(Breakout-ramNoFrameskip-v4), EnvSpec(Phoenix-v0), EnvSpec(BattleZone-ram-v0), EnvSpec(ElevatorAction-ram-v0), EnvSpec(BoxingNoFrameskip-v4), EnvSpec(HotterColder-v0), EnvSpec(Jamesbond-ramNoFrameskip-v0), EnvSpec(PrivateEye-v0), EnvSpec(IceHockeyNoFrameskip-v0), EnvSpec(BreakoutDeterministic-v4), EnvSpec(InvertedPendulum-v1), EnvSpec(StarGunner-v4), EnvSpec(MontezumaRevenge-ram-v0), EnvSpec(Centipede-ram-v4), EnvSpec(Hero-ram-v0), EnvSpec(SolarisNoFrameskip-v0), EnvSpec(TimePilot-ram-v4), EnvSpec(BoxingDeterministic-v0), EnvSpec(UpNDown-v0), EnvSpec(Riverraid-ram-v0), EnvSpec(VideoPinballDeterministic-v4), EnvSpec(RoadRunner-ramDeterministic-v4), EnvSpec(BattleZone-v4), EnvSpec(UpNDown-ramDeterministic-v0), EnvSpec(Phoenix-ramDeterministic-v4), EnvSpec(Hero-v4), EnvSpec(NameThisGame-ramNoFrameskip-v4), EnvSpec(Atlantis-ram-v0), EnvSpec(IceHockeyDeterministic-v4), EnvSpec(BankHeistNoFrameskip-v0), EnvSpec(BeamRider-ram-v0), EnvSpec(OneRoundNondeterministicReward-v0), EnvSpec(WizardOfWor-ram-v0), EnvSpec(Acrobot-v1), EnvSpec(Hero-ramNoFrameskip-v0), EnvSpec(SolarisNoFrameskip-v4), EnvSpec(BankHeistDeterministic-v0), EnvSpec(BerzerkDeterministic-v0), EnvSpec(Carnival-ramNoFrameskip-v4), EnvSpec(Alien-ramDeterministic-v4), EnvSpec(JourneyEscapeNoFrameskip-v0), EnvSpec(AtlantisNoFrameskip-v4), EnvSpec(Asterix-ramDeterministic-v0), EnvSpec(Enduro-v4), EnvSpec(VideoPinballDeterministic-v0), EnvSpec(IceHockey-v0), EnvSpec(Asterix-ram-v4), EnvSpec(Assault-v4), EnvSpec(QbertNoFrameskip-v0), EnvSpec(StarGunnerDeterministic-v4), EnvSpec(Skiing-v0), EnvSpec(CrazyClimber-ramNoFrameskip-v4), EnvSpec(Breakout-v4), EnvSpec(ZaxxonDeterministic-v4), EnvSpec(FishingDerbyNoFrameskip-v4), EnvSpec(TennisDeterministic-v0), EnvSpec(Asteroids-ram-v0), EnvSpec(DoubleDunk-ramDeterministic-v4), EnvSpec(MsPacmanNoFrameskip-v4), EnvSpec(Assault-ram-v0), EnvSpec(JamesbondDeterministic-v0), EnvSpec(MsPacman-ram-v4), EnvSpec(SpaceInvaders-ramDeterministic-v0), EnvSpec(Frostbite-ramNoFrameskip-v0), EnvSpec(Kangaroo-ram-v4), EnvSpec(GopherDeterministic-v0), EnvSpec(Pong-ram-v4), EnvSpec(AlienDeterministic-v0), EnvSpec(Amidar-ram-v0), EnvSpec(JamesbondNoFrameskip-v4), EnvSpec(ChopperCommand-v4), EnvSpec(Gravitar-ramDeterministic-v0), EnvSpec(NameThisGameNoFrameskip-v0), EnvSpec(Centipede-v0), EnvSpec(HeroNoFrameskip-v4), EnvSpec(Boxing-ram-v4), EnvSpec(DemonAttackNoFrameskip-v4), EnvSpec(PrivateEye-ramNoFrameskip-v0), EnvSpec(Seaquest-ram-v0), EnvSpec(Zaxxon-ram-v4), EnvSpec(Skiing-v4), EnvSpec(WizardOfWorNoFrameskip-v4), EnvSpec(Krull-ramNoFrameskip-v4), EnvSpec(YarsRevenge-ramNoFrameskip-v4), EnvSpec(Frostbite-ramDeterministic-v0), EnvSpec(JourneyEscape-v0), EnvSpec(Jamesbond-ramDeterministic-v0), EnvSpec(BipedalWalkerHardcore-v2), EnvSpec(Freeway-ram-v0), EnvSpec(SpaceInvaders-v4), EnvSpec(Gopher-ramNoFrameskip-v0), EnvSpec(Skiing-ramDeterministic-v4), EnvSpec(Pooyan-ramDeterministic-v0), EnvSpec(Frostbite-ram-v4), EnvSpec(Zaxxon-ramNoFrameskip-v0), EnvSpec(BankHeist-ram-v4), EnvSpec(AlienNoFrameskip-v4), EnvSpec(Enduro-ram-v4), EnvSpec(Centipede-ramNoFrameskip-v4), EnvSpec(SeaquestNoFrameskip-v0), EnvSpec(PredictActionsCartpole-v0), EnvSpec(Venture-ramDeterministic-v0), EnvSpec(TennisNoFrameskip-v4), EnvSpec(AlienNoFrameskip-v0), EnvSpec(Centipede-ramNoFrameskip-v0), EnvSpec(ElevatorAction-ramNoFrameskip-v4), EnvSpec(Frostbite-ramDeterministic-v4), EnvSpec(RiverraidDeterministic-v0), EnvSpec(PongDeterministic-v0), EnvSpec(Skiing-ramNoFrameskip-v0), EnvSpec(BankHeist-v0), EnvSpec(Amidar-ram-v4), EnvSpec(Gravitar-ramDeterministic-v4), EnvSpec(CarRacing-v0), EnvSpec(SemisuperPendulumNoise-v0), EnvSpec(Carnival-v4), EnvSpec(Asteroids-v4), EnvSpec(NameThisGameDeterministic-v0), EnvSpec(PredictObsCartpole-v0), EnvSpec(VideoPinballNoFrameskip-v4), EnvSpec(Tutankham-ram-v0), EnvSpec(Qbert-ram-v4), EnvSpec(YarsRevenge-v4), EnvSpec(AlienDeterministic-v4), EnvSpec(YarsRevenge-v0), EnvSpec(Jamesbond-v0), EnvSpec(AtlantisNoFrameskip-v0), EnvSpec(KangarooNoFrameskip-v4), EnvSpec(UpNDown-ramDeterministic-v4), EnvSpec(FrozenLake-v0), EnvSpec(FreewayDeterministic-v4), EnvSpec(JamesbondDeterministic-v4), EnvSpec(BattleZone-ramDeterministic-v0), EnvSpec(TimePilot-ramNoFrameskip-v0), EnvSpec(VideoPinball-ramNoFrameskip-v4), EnvSpec(BeamRider-ram-v4), EnvSpec(RoadRunner-ramNoFrameskip-v0), EnvSpec(StarGunnerNoFrameskip-v4), EnvSpec(CrazyClimber-ramNoFrameskip-v0), EnvSpec(AirRaid-v4), EnvSpec(KellyCoinflip-v0), EnvSpec(Pendulum-v0), EnvSpec(HalfCheetah-v1), EnvSpec(UpNDown-ramNoFrameskip-v4), EnvSpec(AirRaid-ramNoFrameskip-v4), EnvSpec(IceHockey-ramDeterministic-v0), EnvSpec(ElevatorAction-ramNoFrameskip-v0), EnvSpec(BowlingDeterministic-v4), EnvSpec(KungFuMaster-ramNoFrameskip-v4), EnvSpec(JourneyEscape-v4), EnvSpec(YarsRevenge-ramDeterministic-v4), EnvSpec(Tutankham-ram-v4), EnvSpec(MontezumaRevenge-v4), EnvSpec(Pong-ram-v0), EnvSpec(TimePilot-ramDeterministic-v0), EnvSpec(DoubleDunk-ram-v0), EnvSpec(Amidar-ramDeterministic-v0), EnvSpec(PitfallDeterministic-v4), EnvSpec(IceHockey-ram-v4), EnvSpec(CrazyClimber-v0), EnvSpec(SkiingDeterministic-v0), EnvSpec(Boxing-ramNoFrameskip-v0), EnvSpec(BeamRider-ramNoFrameskip-v0), EnvSpec(FishingDerby-v0), EnvSpec(Bowling-v4), EnvSpec(RoadRunnerDeterministic-v0)])\n"
     ]
    }
   ],
   "source": [
    "from gym import envs\n",
    "print(envs.registry.all())"
   ]
  },
  {
   "cell_type": "code",
   "execution_count": null,
   "metadata": {
    "collapsed": true
   },
   "outputs": [],
   "source": []
  }
 ],
 "metadata": {
  "kernelspec": {
   "display_name": "Python 3",
   "language": "python",
   "name": "python3"
  },
  "language_info": {
   "codemirror_mode": {
    "name": "ipython",
    "version": 3
   },
   "file_extension": ".py",
   "mimetype": "text/x-python",
   "name": "python",
   "nbconvert_exporter": "python",
   "pygments_lexer": "ipython3",
   "version": "3.5.4"
  }
 },
 "nbformat": 4,
 "nbformat_minor": 2
}
