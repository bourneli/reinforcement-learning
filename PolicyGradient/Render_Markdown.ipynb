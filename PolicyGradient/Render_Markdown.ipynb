{
 "cells": [
  {
   "cell_type": "code",
   "execution_count": 1,
   "metadata": {},
   "outputs": [
    {
     "data": {
      "text/markdown": [
       "## Policy Gradient Methods\n",
       "\n",
       "\n",
       "### Learning Goals\n",
       "\n",
       "- Understand the difference between value-based and policy-based Reinforcement Learning\n",
       "- Understand the REINFORCE Algorithm (Monte Carlo Policy Gradient)\n",
       "- Understand Actor-Critic (AC) algorithms\n",
       "- Understand Advantage Functions\n",
       "- Understand Deterministic Policy Gradients (Optional)\n",
       "- Understand how to scale up Policy Gradient methods using asynchronous actor-critic and Neural Networks (Optional)\n",
       "\n",
       "\n",
       "### Summary\n",
       "\n",
       "- Idea: Instead of parameterizing the value function and doing greedy policy improvement we parameterize the policy and do gradient descent into a direction that improves it.\n",
       "- Sometimes the policy is easier to approximate than the value function. Also, we need a parameterized policy to deal with continuous action spaces and environments where we need to act stochastically.\n",
       "- Policy Score Function `J(theta)`: Intuitively, it measures how good our policy is. For example, we can use the average value or average reward under a policy as our objective.\n",
       "- Common choices for the policy function: Softmax for discrete actions, Gaussian parameters for continuous actions.\n",
       "- Policy Gradient Theorem: `grad(J(theta)) = Ex[grad(log(pi(s, a))) * Q(s, a)]`. Basically, we move our policy into a direction of more reward.\n",
       "- REINFORCE (Monte Carlo Policy Gradient): We substitute a samples return `g_t` form an episode for Q(s, a) to make an update. Unbiased but high variance.\n",
       "- Baseline: Instead of measuring the absolute goodness of an action we want to know how much better than \"average\" it is to take an action given a state. E.g. some states are naturally bad and always give negative reward. This is called the advantage and is defined as `Q(s, a) - V(s)`. We use that for our policy update, e.g. `g_t - V(s)` for REINFORCE.\n",
       "- Actor-Critic: Instead of waiting until the end of an episode as in REINFORCE we use bootstrapping and make an update at each step. To do that we also train a Critic Q(theta) that approximates the value function. Now we have two function approximators: One of the policy, one for the critic. This is basically TD, but for Policy Gradients.\n",
       "- A good estimate of the advantage function in the Actor-Critic algorithm is the td error. Our update then becomes `grad(J(theta)) = Ex[grad(log(pi(s, a))) * td_error]`.\n",
       "- Can use policy gradients with td-lambda, eligibility traces, and so on.\n",
       "- Deterministic Policy Gradients: Useful for high-dimensional continuous action spaces where stochastic policy gradients are expensive to compute. The idea is to update the policy in the direction of the gradient of the action-value function. To ensure exploration we can use an off-policy actor-critic algorithm with added noise in action selection.\n",
       "- Deep Deterministic Policy Gradients: Apply tricks from DQN to Deterministic Policy Gradients ;)\n",
       "- Asynchronous Advantage Actor-Critic (A3C): Instead of using an experience replay buffer as in DQN use multiple agents on different threads to explore the state spaces and make decorrelated updates to the actor and the critic.\n",
       "\n",
       "\n",
       "### Lectures & Readings\n",
       "\n",
       "**Required:**\n",
       "\n",
       "- David Silver's RL Course Lecture 7 - Policy Gradient Methods ([video](https://www.youtube.com/watch?v=KHZVXao4qXs), [slides](http://www0.cs.ucl.ac.uk/staff/d.silver/web/Teaching_files/pg.pdf))\n",
       "\n",
       "**Optional:**\n",
       "\n",
       "- [Reinforcement Learning: An Introduction](http://incompleteideas.net/book/bookdraft2017nov5.pdf) - Chapter 11: Policy Gradient Methods (Under Construction)\n",
       "- [Deterministic Policy Gradient Algorithms](http://jmlr.org/proceedings/papers/v32/silver14.pdf)\n",
       "- [Deterministic Policy Gradient Algorithms (Talk)](http://techtalks.tv/talks/deterministic-policy-gradient-algorithms/61098/)\n",
       "- [Continuous control with deep reinforcement learning](https://arxiv.org/abs/1509.02971)\n",
       "- [Deep Deterministic Policy Gradients in TensorFlow](http://pemami4911.github.io/blog_posts/2016/08/21/ddpg-rl.html)\n",
       "- [Asynchronous Methods for Deep Reinforcement Learning](https://arxiv.org/abs/1602.01783)\n",
       "- [Deep Reinforcement Learning: A Tutorial (Policy Gradient Section)](https://gym.openai.com/docs/rl#policy-gradients)\n",
       "\n",
       "\n",
       "\n",
       "### Exercises\n",
       "\n",
       "- REINFORCE with Baseline\n",
       "  - Exercise\n",
       "  - [Solution](CliffWalk%20REINFORCE%20with%20Baseline%20Solution.ipynb)\n",
       "- Actor-Critic with Baseline\n",
       "  - Exercise\n",
       "  - [Solution](CliffWalk%20Actor-Critic%20Solution.ipynb)\n",
       "- Actor-Critic with Baseline for Continuous Action Spaces\n",
       "  - Exercise\n",
       "  - [Solution](Continuous%20MountainCar%20Actor-Critic%20Solution.ipynb)\n",
       "- Deterministic Policy Gradients for Continuous Action Spaces (WIP)\n",
       "- Deep Deterministic Policy Gradients (WIP)\n",
       "- Asynchronous Advantage Actor-Critic (A3C)\n",
       "  - Exercise\n",
       "  - [Solution](a3c/)\n"
      ],
      "text/plain": [
       "<IPython.core.display.Markdown object>"
      ]
     },
     "metadata": {},
     "output_type": "display_data"
    }
   ],
   "source": [
    "from IPython.display import display, Markdown\n",
    "\n",
    "with open('readme.md', 'r') as fh:\n",
    "    content = fh.read()\n",
    "\n",
    "display(Markdown(content))"
   ]
  },
  {
   "cell_type": "code",
   "execution_count": null,
   "metadata": {
    "collapsed": true
   },
   "outputs": [],
   "source": []
  }
 ],
 "metadata": {
  "kernelspec": {
   "display_name": "Python 3",
   "language": "python",
   "name": "python3"
  },
  "language_info": {
   "codemirror_mode": {
    "name": "ipython",
    "version": 3
   },
   "file_extension": ".py",
   "mimetype": "text/x-python",
   "name": "python",
   "nbconvert_exporter": "python",
   "pygments_lexer": "ipython3",
   "version": "3.5.4"
  }
 },
 "nbformat": 4,
 "nbformat_minor": 2
}
